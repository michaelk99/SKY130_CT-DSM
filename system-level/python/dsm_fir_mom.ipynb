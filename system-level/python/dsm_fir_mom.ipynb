{
 "cells": [
  {
   "cell_type": "code",
   "outputs": [],
   "source": [
    "'''\n",
    "Copyright 2024 Michael Koefinger\n",
    "\n",
    "Licensed under the Apache License, Version 2.0 (the \"License\");\n",
    "you may not use this file except in compliance with the License.\n",
    "You may obtain a copy of the License at\n",
    "\n",
    "    http://www.apache.org/licenses/LICENSE-2.0\n",
    "\n",
    "Unless required by applicable law or agreed to in writing, software\n",
    "distributed under the License is distributed on an \"AS IS\" BASIS,\n",
    "WITHOUT WARRANTIES OR CONDITIONS OF ANY KIND, either express or implied.\n",
    "See the License for the specific language governing permissions and\n",
    "limitations under the License.\n",
    "'''"
   ],
   "metadata": {
    "collapsed": false
   },
   "id": "5105732ca5afdb6c",
   "execution_count": null
  },
  {
   "cell_type": "code",
   "outputs": [],
   "source": [
    "'''\n",
    "Author: Michael Koefinger\n",
    "Date: 18.01.2024\n",
    "Notebook to determine coefficients of a Delta-Sigma modulator using FIR feedback based on [1]\n",
    "\n",
    "[1] S. Pavan, \"Continuous-Time Delta-Sigma Modulator Design Using the Method of Moments,\" in IEEE Transactions on Circuits and Systems I: Regular Papers, vol. 61, no. 6, pp. 1629-1637, June 2014, doi: 10.1109/TCSI.2013.2290846.\n",
    "\n",
    "'''"
   ],
   "metadata": {
    "collapsed": false
   },
   "id": "5c0ca3f6da25ecc9",
   "execution_count": null
  },
  {
   "cell_type": "code",
   "execution_count": null,
   "id": "initial_id",
   "metadata": {
    "collapsed": true
   },
   "outputs": [],
   "source": [
    "import sympy as sym\n",
    "from sympy import exp, factorial, binomial"
   ]
  },
  {
   "cell_type": "code",
   "outputs": [],
   "source": [
    "''' Calculate the l-th moment of a (DAC) pulse based on its Laplace transform P(s)\n",
    "    \n",
    "    P: Laplace transform of pulse\n",
    "    s: Laplace variable\n",
    "    l: l-th moment of the pulse\n",
    "    \n",
    "'''\n",
    "def moment_lap(P,s,l):\n",
    "    deriv = P\n",
    "    for i in range(l):\n",
    "        deriv = deriv.diff(s)\n",
    "    res = sym.limit(deriv, s, 0)\n",
    "    res = res*(-1)**l\n",
    "    return res\n",
    "    "
   ],
   "metadata": {
    "collapsed": false
   },
   "id": "a2951ff57371a7fa",
   "execution_count": null
  },
  {
   "cell_type": "code",
   "outputs": [],
   "source": [
    "# Test moment_lap()\n",
    "s = sym.Symbol('s')\n",
    "n_fir = sym.symbols('n_fir')\n",
    "P_nrz = (1-exp(-s))/s\n",
    "P_rz = 2*(1-exp(-s/2))/s\n",
    "P_nrz_fir = 1/n_fir*(1-exp(-n_fir*s))/s\n",
    "for i in range(4):\n",
    "    print(moment_lap(P_nrz,s,i))\n",
    "\n",
    "for i in range(4):\n",
    "    print(moment_lap(P_nrz_fir,s,i))"
   ],
   "metadata": {
    "collapsed": false
   },
   "id": "4abd7fb881b1db28",
   "execution_count": null
  },
  {
   "cell_type": "code",
   "outputs": [],
   "source": [
    "''' Calculate the output of a chain of k intergrators given the Laplace transform of the input (DAC) pulse P(s)\n",
    "    \n",
    "    k: Number of integrators\n",
    "    t: time variable\n",
    "    P: Laplace transform of pulse\n",
    "    s: Laplace variable\n",
    "    \n",
    "'''\n",
    "def integ_chain_output(k, t, P, s):\n",
    "    x_out = 0\n",
    "    for l in range(k):\n",
    "        x_out = x_out + ((-1)**l/(factorial(k-1))*binomial(k-1,l)*moment_lap(P,s,l)*t**(k-l-1))\n",
    "    return x_out"
   ],
   "metadata": {
    "collapsed": false
   },
   "id": "8648301ddccd0e1f",
   "execution_count": null
  },
  {
   "cell_type": "code",
   "outputs": [],
   "source": [
    "# Test integ_chain_output\n",
    "t = sym.symbols('t')\n",
    "for i in range(5):\n",
    "    print(integ_chain_output(i,t,P_nrz,s))"
   ],
   "metadata": {
    "collapsed": false
   },
   "id": "917b93489e7e4707",
   "execution_count": null
  },
  {
   "cell_type": "code",
   "outputs": [],
   "source": [
    "''' Calculate sampled sequence at the output of the chain of integrators, i.e. the loop filter of a Delta-Sigma modulator.\n",
    "\n",
    "    a_list: List of coefficient names\n",
    "    t: time variable\n",
    "    N: Order of the loop filter, i.e. number of integrators\n",
    "    P: Laplace transform of pulse\n",
    "    s: Laplace variable\n",
    "\n",
    "'''\n",
    "def sampled_loopfilter_output(a_list, t, N, P, s):\n",
    "    y_out = 0\n",
    "    for k in range(1,N+1):\n",
    "        a_k = a_list[k-1]\n",
    "        x_k = integ_chain_output(k,t,P,s)\n",
    "        y_out = y_out + a_k*x_k\n",
    "        #print(k); print(a_k); print(x_k)\n",
    "    return y_out"
   ],
   "metadata": {
    "collapsed": false
   },
   "id": "145c5f3656448edc",
   "execution_count": null
  },
  {
   "cell_type": "code",
   "outputs": [],
   "source": [
    "# Use method of moments to find tuned loop filter coefficients for a FIR DAC\n",
    "t = sym.symbols('t')\n",
    "[a1, a2, a3, a4] = sym.symbols('a1 a2 a3 a4')\n",
    "[a1_fir, a2_fir, a3_fir, a4_fir] = sym.symbols('a1_fir a2_fir a3_fir a4_fir')\n",
    "a_list = [a1, a2, a3, a4]\n",
    "a_list_fir = [a1_fir, a2_fir, a3_fir, a4_fir]\n",
    "N = 4\n",
    "out_samp_nrz = sampled_loopfilter_output(a_list, t, N, P_nrz,s)\n",
    "out_samp_nrz_fir = sampled_loopfilter_output(a_list_fir, t, N, P_nrz_fir,s)\n",
    "y_nrz = out_samp_nrz.as_poly(t)\n",
    "y_nrz_fir = out_samp_nrz_fir.as_poly(t)\n",
    "coeff_proto_list = y_nrz.all_coeffs()\n",
    "coeff_fir_list = y_nrz_fir.all_coeffs()\n",
    "eq_list = []\n",
    "for i in range(N):\n",
    "    eq_list.append(coeff_fir_list[i]-coeff_proto_list[i])\n",
    "    \n",
    "sol = sym.solve(eq_list, a_list_fir)\n",
    "simplified_sol = sym.simplify(sol)"
   ],
   "metadata": {
    "collapsed": false
   },
   "id": "229bb7e06e1508fe",
   "execution_count": null
  },
  {
   "cell_type": "code",
   "outputs": [],
   "source": [
    "sym.factor(simplified_sol)"
   ],
   "metadata": {
    "collapsed": false
   },
   "id": "8102c85c5f797d1",
   "execution_count": null
  },
  {
   "cell_type": "code",
   "outputs": [],
   "source": [
    "coeff_proto_list"
   ],
   "metadata": {
    "collapsed": false
   },
   "id": "cf409e9ea44c81c6",
   "execution_count": null
  },
  {
   "cell_type": "code",
   "outputs": [],
   "source": [
    "coeff_fir_list"
   ],
   "metadata": {
    "collapsed": false
   },
   "id": "aae07cb941f29b41",
   "execution_count": null
  }
 ],
 "metadata": {
  "kernelspec": {
   "display_name": "Python 3",
   "language": "python",
   "name": "python3"
  },
  "language_info": {
   "codemirror_mode": {
    "name": "ipython",
    "version": 2
   },
   "file_extension": ".py",
   "mimetype": "text/x-python",
   "name": "python",
   "nbconvert_exporter": "python",
   "pygments_lexer": "ipython2",
   "version": "2.7.6"
  }
 },
 "nbformat": 4,
 "nbformat_minor": 5
}
