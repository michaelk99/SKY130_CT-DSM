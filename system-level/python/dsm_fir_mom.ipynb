{
 "cells": [
  {
   "cell_type": "code",
   "execution_count": 1,
   "id": "5105732ca5afdb6c",
   "metadata": {
    "collapsed": false
   },
   "outputs": [
    {
     "data": {
      "text/plain": [
       "'\\nCopyright 2024 Michael Koefinger\\n\\nLicensed under the Apache License, Version 2.0 (the \"License\");\\nyou may not use this file except in compliance with the License.\\nYou may obtain a copy of the License at\\n\\n    http://www.apache.org/licenses/LICENSE-2.0\\n\\nUnless required by applicable law or agreed to in writing, software\\ndistributed under the License is distributed on an \"AS IS\" BASIS,\\nWITHOUT WARRANTIES OR CONDITIONS OF ANY KIND, either express or implied.\\nSee the License for the specific language governing permissions and\\nlimitations under the License.\\n'"
      ]
     },
     "execution_count": 1,
     "metadata": {},
     "output_type": "execute_result"
    }
   ],
   "source": [
    "'''\n",
    "Copyright 2024 Michael Koefinger\n",
    "\n",
    "Licensed under the Apache License, Version 2.0 (the \"License\");\n",
    "you may not use this file except in compliance with the License.\n",
    "You may obtain a copy of the License at\n",
    "\n",
    "    http://www.apache.org/licenses/LICENSE-2.0\n",
    "\n",
    "Unless required by applicable law or agreed to in writing, software\n",
    "distributed under the License is distributed on an \"AS IS\" BASIS,\n",
    "WITHOUT WARRANTIES OR CONDITIONS OF ANY KIND, either express or implied.\n",
    "See the License for the specific language governing permissions and\n",
    "limitations under the License.\n",
    "'''"
   ]
  },
  {
   "cell_type": "code",
   "execution_count": 2,
   "id": "5c0ca3f6da25ecc9",
   "metadata": {
    "collapsed": false
   },
   "outputs": [
    {
     "data": {
      "text/plain": [
       "'\\nAuthor: Michael Koefinger\\nDate: 18.01.2024\\nNotebook to determine coefficients of a Delta-Sigma modulator using FIR feedback based on [1]\\n\\n[1] S. Pavan, \"Continuous-Time Delta-Sigma Modulator Design Using the Method of Moments,\" in IEEE Transactions on Circuits and Systems I: Regular Papers, vol. 61, no. 6, pp. 1629-1637, June 2014, doi: 10.1109/TCSI.2013.2290846.\\n\\n'"
      ]
     },
     "execution_count": 2,
     "metadata": {},
     "output_type": "execute_result"
    }
   ],
   "source": [
    "'''\n",
    "Author: Michael Koefinger\n",
    "Date: 18.01.2024\n",
    "Notebook to determine coefficients of a Delta-Sigma modulator using FIR feedback based on [1]\n",
    "\n",
    "[1] S. Pavan, \"Continuous-Time Delta-Sigma Modulator Design Using the Method of Moments,\" in IEEE Transactions on Circuits and Systems I: Regular Papers, vol. 61, no. 6, pp. 1629-1637, June 2014, doi: 10.1109/TCSI.2013.2290846.\n",
    "\n",
    "'''"
   ]
  },
  {
   "cell_type": "code",
   "execution_count": 3,
   "id": "initial_id",
   "metadata": {
    "ExecuteTime": {
     "end_time": "2025-03-05T12:38:29.094801Z",
     "start_time": "2025-03-05T12:38:29.074553Z"
    },
    "collapsed": true
   },
   "outputs": [],
   "source": [
    "import sympy as sym\n",
    "from sympy import exp, factorial, binomial\n",
    "import numpy as np\n",
    "from scipy.stats import moment"
   ]
  },
  {
   "cell_type": "code",
   "execution_count": 4,
   "id": "a2951ff57371a7fa",
   "metadata": {
    "collapsed": false
   },
   "outputs": [],
   "source": [
    "''' Calculate the l-th moment of a (DAC) pulse based on its Laplace transform P(s)\n",
    "    \n",
    "    P: Laplace transform of pulse\n",
    "    s: Laplace variable\n",
    "    l: l-th moment of the pulse\n",
    "    \n",
    "'''\n",
    "def moment_lap(P,s,l):\n",
    "    deriv = P\n",
    "    for i in range(l):\n",
    "        deriv = deriv.diff(s)\n",
    "    res = sym.limit(deriv, s, 0)\n",
    "    res = res*(-1)**l\n",
    "    return res\n",
    "    "
   ]
  },
  {
   "cell_type": "code",
   "execution_count": 5,
   "id": "4abd7fb881b1db28",
   "metadata": {
    "collapsed": false
   },
   "outputs": [
    {
     "name": "stdout",
     "output_type": "stream",
     "text": [
      "1\n",
      "1/2\n",
      "1/3\n",
      "1/4\n",
      "1\n",
      "n_fir/2\n",
      "n_fir**2/3\n",
      "n_fir**3/4\n",
      "1\n",
      "n_fir\n",
      "7*n_fir**2/6\n",
      "3*n_fir**3/2\n"
     ]
    }
   ],
   "source": [
    "# Test moment_lap()\n",
    "s = sym.Symbol('s')\n",
    "n_fir = sym.symbols('n_fir')\n",
    "tdelay = sym.symbols('tdelay')\n",
    "Pdelay = exp(-tdelay*s)\n",
    "P_nrz = (1-exp(-s))/s\n",
    "P_rz = 2*(1-exp(-s/2))/s\n",
    "P_nrz_fir = 1/n_fir*(1-exp(-n_fir*s))/s # lim s->0 (\"0\"/\"0\", L'Hopital) = n_fir/n_fir = 1\n",
    "P_nrz_fir_neg1 = 1/(n_fir-1)*(1-exp(-(n_fir-1)*s))/s\n",
    "P_triang_fir = P_nrz_fir*P_nrz_fir;\n",
    "# P_triang_fir = P_nrz_fir*P_nrz_fir_neg1;\n",
    "\n",
    "for i in range(4):\n",
    "    print(moment_lap(P_nrz,s,i))\n",
    "\n",
    "for i in range(4):\n",
    "    print(moment_lap(P_nrz_fir,s,i))\n",
    "\n",
    "for i in range(4):\n",
    "    print(moment_lap(P_triang_fir,s,i))"
   ]
  },
  {
   "cell_type": "code",
   "execution_count": 6,
   "id": "8648301ddccd0e1f",
   "metadata": {
    "collapsed": false
   },
   "outputs": [],
   "source": [
    "''' Calculate the output of a chain of k intergrators given the Laplace transform of the input (DAC) pulse P(s)\n",
    "    \n",
    "    k: Number of integrators\n",
    "    t: time variable\n",
    "    P: Laplace transform of pulse\n",
    "    s: Laplace variable\n",
    "    \n",
    "'''\n",
    "def integ_chain_output(k, t, P, s):\n",
    "    x_out = 0\n",
    "    for l in range(k):\n",
    "        x_out = x_out + ((-1)**l/(factorial(k-1))*binomial(k-1,l)*moment_lap(P,s,l)*t**(k-l-1))\n",
    "    return x_out"
   ]
  },
  {
   "cell_type": "code",
   "execution_count": 7,
   "id": "917b93489e7e4707",
   "metadata": {
    "collapsed": false
   },
   "outputs": [
    {
     "name": "stdout",
     "output_type": "stream",
     "text": [
      "0\n",
      "1\n",
      "t - tdelay - 1/2\n",
      "t**2/2 + t*(-tdelay - 1/2) + tdelay**2/2 + tdelay/2 + 1/6\n",
      "t**3/6 + t**2*(-tdelay/2 - 1/4) + t*(tdelay**2/2 + tdelay/2 + 1/6) - tdelay**3/6 - tdelay**2/4 - tdelay/6 - 1/24\n"
     ]
    }
   ],
   "source": [
    "# Test integ_chain_output\n",
    "t = sym.symbols('t')\n",
    "tdelay = sym.symbols('tdelay')\n",
    "for i in range(5):\n",
    "    print(integ_chain_output(i,t,P_nrz*Pdelay,s))"
   ]
  },
  {
   "cell_type": "code",
   "execution_count": 8,
   "id": "145c5f3656448edc",
   "metadata": {
    "collapsed": false
   },
   "outputs": [],
   "source": [
    "''' Calculate sampled sequence at the output of the chain of integrators, i.e. the loop filter of a Delta-Sigma modulator.\n",
    "\n",
    "    a_list: List of coefficient names\n",
    "    t: time variable\n",
    "    N: Order of the loop filter, i.e. number of integrators\n",
    "    P: Laplace transform of pulse\n",
    "    s: Laplace variable\n",
    "\n",
    "'''\n",
    "def sampled_loopfilter_output(a_list, t, N, P, s):\n",
    "    y_out = 0\n",
    "    for k in range(1,N+1):\n",
    "        a_k = a_list[k-1]\n",
    "        x_k = integ_chain_output(k,t,P,s)\n",
    "        y_out = y_out + a_k*x_k\n",
    "        #print(k); print(a_k); print(x_k)\n",
    "    return y_out"
   ]
  },
  {
   "cell_type": "code",
   "execution_count": 9,
   "id": "229bb7e06e1508fe",
   "metadata": {
    "collapsed": false
   },
   "outputs": [],
   "source": [
    "# Use method of moments to find tuned loop filter coefficients for a FIR DAC\n",
    "t = sym.symbols('t')\n",
    "[a1, a2, a3, a4] = sym.symbols('a1 a2 a3 a4')\n",
    "[a1_fir, a2_fir, a3_fir, a4_fir] = sym.symbols('a1_fir a2_fir a3_fir a4_fir')\n",
    "a_list = [a1, a2, a3, a4]\n",
    "a_list_fir = [a1_fir, a2_fir, a3_fir, a4_fir]\n",
    "N = 4\n",
    "out_samp_nrz = sampled_loopfilter_output(a_list, t, N, P_nrz,s)\n",
    "out_samp_nrz_fir = sampled_loopfilter_output(a_list_fir, t, N, P_nrz_fir,s)\n",
    "y_nrz = out_samp_nrz.as_poly(t)\n",
    "y_nrz_fir = out_samp_nrz_fir.as_poly(t)\n",
    "coeff_proto_list = y_nrz.all_coeffs()\n",
    "coeff_fir_list = y_nrz_fir.all_coeffs()\n",
    "eq_list = []\n",
    "for i in range(N):\n",
    "    eq_list.append(coeff_fir_list[i]-coeff_proto_list[i])\n",
    "    \n",
    "sol = sym.solve(eq_list, a_list_fir)\n",
    "simplified_sol = sym.simplify(sol)"
   ]
  },
  {
   "cell_type": "code",
   "execution_count": 10,
   "id": "8102c85c5f797d1",
   "metadata": {
    "collapsed": false
   },
   "outputs": [
    {
     "data": {
      "text/latex": [
       "$\\displaystyle \\left\\{ a_{1 fir} : \\frac{24 a_{1} + 12 a_{2} n_{fir} - 12 a_{2} + 2 a_{3} n_{fir}^{2} - 6 a_{3} n_{fir} + 4 a_{3} - a_{4} n_{fir}^{2} + 2 a_{4} n_{fir} - a_{4}}{24}, \\  a_{2 fir} : \\frac{12 a_{2} + 6 a_{3} n_{fir} - 6 a_{3} + a_{4} n_{fir}^{2} - 3 a_{4} n_{fir} + 2 a_{4}}{12}, \\  a_{3 fir} : \\frac{2 a_{3} + a_{4} n_{fir} - a_{4}}{2}, \\  a_{4 fir} : a_{4}\\right\\}$"
      ],
      "text/plain": [
       "{a1_fir: (24*a1 + 12*a2*n_fir - 12*a2 + 2*a3*n_fir**2 - 6*a3*n_fir + 4*a3 - a4*n_fir**2 + 2*a4*n_fir - a4)/24, a2_fir: (12*a2 + 6*a3*n_fir - 6*a3 + a4*n_fir**2 - 3*a4*n_fir + 2*a4)/12, a3_fir: (2*a3 + a4*n_fir - a4)/2, a4_fir: a4}"
      ]
     },
     "execution_count": 10,
     "metadata": {},
     "output_type": "execute_result"
    }
   ],
   "source": [
    "sym.factor(simplified_sol)"
   ]
  },
  {
   "cell_type": "code",
   "execution_count": 11,
   "id": "cf409e9ea44c81c6",
   "metadata": {
    "collapsed": false
   },
   "outputs": [
    {
     "data": {
      "text/plain": [
       "[a4/6, a3/2 - a4/4, a2 - a3/2 + a4/6, a1 - a2/2 + a3/6 - a4/24]"
      ]
     },
     "execution_count": 11,
     "metadata": {},
     "output_type": "execute_result"
    }
   ],
   "source": [
    "coeff_proto_list"
   ]
  },
  {
   "cell_type": "code",
   "execution_count": 12,
   "id": "aae07cb941f29b41",
   "metadata": {
    "collapsed": false
   },
   "outputs": [
    {
     "data": {
      "text/plain": [
       "[a4_fir/6,\n",
       " a3_fir/2 - a4_fir*n_fir/4,\n",
       " a2_fir - a3_fir*n_fir/2 + a4_fir*n_fir**2/6,\n",
       " a1_fir - a2_fir*n_fir/2 + a3_fir*n_fir**2/6 - a4_fir*n_fir**3/24]"
      ]
     },
     "execution_count": 12,
     "metadata": {},
     "output_type": "execute_result"
    }
   ],
   "source": [
    "coeff_fir_list"
   ]
  },
  {
   "cell_type": "code",
   "execution_count": 13,
   "id": "a6d3fb43",
   "metadata": {},
   "outputs": [],
   "source": [
    "# Use method of moments to find tuned loop filter coefficients for a FIR DAC with unequal filter coeff.\n",
    "t = sym.symbols('t')\n",
    "[a1, a2, a3, a4] = sym.symbols('a1 a2 a3 a4')\n",
    "[a1_fir, a2_fir, a3_fir, a4_fir] = sym.symbols('a1_fir a2_fir a3_fir a4_fir')\n",
    "a_list = [a1, a2, a3, a4]\n",
    "a_list_fir = [a1_fir, a2_fir, a3_fir, a4_fir]\n",
    "N = 4\n",
    "out_samp_nrz = sampled_loopfilter_output(a_list, t, N, P_nrz,s)\n",
    "out_samp_triang_fir = sampled_loopfilter_output(a_list_fir, t, N, P_triang_fir,s)\n",
    "y_nrz = out_samp_nrz.as_poly(t)\n",
    "y_triang_fir = out_samp_triang_fir.as_poly(t)\n",
    "coeff_proto_list = y_nrz.all_coeffs()\n",
    "coeff_fir_list = y_triang_fir.all_coeffs()\n",
    "eq_list = []\n",
    "for i in range(N):\n",
    "    eq_list.append(coeff_fir_list[i]-coeff_proto_list[i])\n",
    "    \n",
    "sol = sym.solve(eq_list, a_list_fir)\n",
    "simplified_sol = sym.simplify(sol)"
   ]
  },
  {
   "cell_type": "code",
   "execution_count": 14,
   "id": "bd63abc1",
   "metadata": {},
   "outputs": [
    {
     "data": {
      "text/latex": [
       "$\\displaystyle \\left\\{ a_{1 fir} : \\frac{24 a_{1} + 24 a_{2} n_{fir} - 12 a_{2} + 10 a_{3} n_{fir}^{2} - 12 a_{3} n_{fir} + 4 a_{3} + 2 a_{4} n_{fir}^{3} - 5 a_{4} n_{fir}^{2} + 4 a_{4} n_{fir} - a_{4}}{24}, \\  a_{2 fir} : \\frac{12 a_{2} + 12 a_{3} n_{fir} - 6 a_{3} + 5 a_{4} n_{fir}^{2} - 6 a_{4} n_{fir} + 2 a_{4}}{12}, \\  a_{3 fir} : \\frac{2 a_{3} + 2 a_{4} n_{fir} - a_{4}}{2}, \\  a_{4 fir} : a_{4}\\right\\}$"
      ],
      "text/plain": [
       "{a1_fir: (24*a1 + 24*a2*n_fir - 12*a2 + 10*a3*n_fir**2 - 12*a3*n_fir + 4*a3 + 2*a4*n_fir**3 - 5*a4*n_fir**2 + 4*a4*n_fir - a4)/24, a2_fir: (12*a2 + 12*a3*n_fir - 6*a3 + 5*a4*n_fir**2 - 6*a4*n_fir + 2*a4)/12, a3_fir: (2*a3 + 2*a4*n_fir - a4)/2, a4_fir: a4}"
      ]
     },
     "execution_count": 14,
     "metadata": {},
     "output_type": "execute_result"
    }
   ],
   "source": [
    "sym.factor(simplified_sol)"
   ]
  },
  {
   "cell_type": "code",
   "execution_count": 15,
   "id": "3380309c",
   "metadata": {},
   "outputs": [],
   "source": [
    "''' Calculate the output of a chain of k intergrators depending of the (k-1) moments of the DAC pulse shape\n",
    "    \n",
    "    k: Number of integrators\n",
    "    t: time variable\n",
    "    P: Laplace transform of pulse\n",
    "    s: Laplace variable\n",
    "    \n",
    "'''\n",
    "def integ_chain_output_general(k, t, u_k):\n",
    "    x_out = 0\n",
    "    for l in range(k):\n",
    "        x_out = x_out + ((-1)**l/(factorial(k-1))*binomial(k-1,l)*u_k[l]*t**(k-l-1))\n",
    "    return x_out"
   ]
  },
  {
   "cell_type": "code",
   "execution_count": 16,
   "id": "8eacc93b",
   "metadata": {},
   "outputs": [
    {
     "name": "stdout",
     "output_type": "stream",
     "text": [
      "u0\n",
      "t*u0 - u1\n",
      "t**2*u0/2 - t*u1 + u2/2\n"
     ]
    }
   ],
   "source": [
    "# Test integ_chain_output_general, same results as in [1]\n",
    "\n",
    "k = 4;\n",
    "[u0, u1, u2, u3] = sym.symbols('u0 u1 u2 u3') # lth order moments\n",
    "u_k = np.array((u0, u1, u2, u3))\n",
    "t = sym.symbols('t')\n",
    "for i in range(1,k):\n",
    "    print(integ_chain_output_general(i, t, u_k))\n"
   ]
  },
  {
   "cell_type": "code",
   "execution_count": 17,
   "id": "ed1d88d6",
   "metadata": {},
   "outputs": [],
   "source": [
    "''' Calculate sampled sequence at the output of the chain of integrators, i.e. the loop filter of a Delta-Sigma modulator.\n",
    "\n",
    "    a_list: List of coefficient names\n",
    "    t: time variable\n",
    "    N: Order of the loop filter, i.e. number of integrators\n",
    "    u_list: List of lth order moments names\n",
    "\n",
    "'''\n",
    "def sampled_loopfilter_output_general(a_list, t, N, u_list):\n",
    "    y_out = 0\n",
    "    for k in range(1,N+1):\n",
    "        a_k = a_list[k-1]\n",
    "        x_k = integ_chain_output_general(k,t, u_list)\n",
    "        y_out = y_out + a_k*x_k\n",
    "        #print(k); print(a_k); print(x_k)\n",
    "    return y_out"
   ]
  },
  {
   "cell_type": "code",
   "execution_count": 18,
   "id": "5c5200f6",
   "metadata": {},
   "outputs": [
    {
     "data": {
      "text/latex": [
       "$\\displaystyle \\operatorname{Poly}{\\left( \\frac{a_{3} u_{0}}{2} t^{2} + \\left(a_{2} u_{0} - a_{3} u_{1}\\right) t + a_{1} u_{0} - a_{2} u_{1} + \\frac{a_{3} u_{2}}{2}, t, domain=\\mathbb{Q}\\left[u_{0}, u_{1}, u_{2}, a_{1}, a_{2}, a_{3}\\right] \\right)}$"
      ],
      "text/plain": [
       "Poly(a3*u0/2*t**2 + (a2*u0 - a3*u1)*t + a1*u0 - a2*u1 + a3*u2/2, t, domain='QQ[u0,u1,u2,a1,a2,a3]')"
      ]
     },
     "execution_count": 18,
     "metadata": {},
     "output_type": "execute_result"
    }
   ],
   "source": [
    "# Test sampled_loopfilter_output_general, same results as in [1]\n",
    "\n",
    "order = 3;\n",
    "[a1, a2, a3, a4] = sym.symbols('a1 a2 a3 a4')\n",
    "[u0, u1, u2, u3] = sym.symbols('u0 u1 u2 u3') # lth order moments\n",
    "a_list = np.array((a1, a2, a3, a4))\n",
    "u_list = np.array((u0, u1, u2, u3))\n",
    "t = sym.symbols('t')\n",
    "sym.factor(sampled_loopfilter_output_general(a_list, t, order, u_list).as_poly(t))"
   ]
  },
  {
   "cell_type": "code",
   "execution_count": 19,
   "id": "cc786696",
   "metadata": {},
   "outputs": [],
   "source": [
    "# General Form of loop filter coefficients for CT-CT transformation\n",
    "order = 4;\n",
    "subsMom0_1 = True # assume that zero order moment, i.e. the area of the pulses is 1\n",
    "t = sym.symbols('t')\n",
    "[a1, a2, a3, a4] = sym.symbols('a1 a2 a3 a4')\n",
    "[u0, u1, u2, u3] = sym.symbols('mu_0 mu_1 mu_2 mu_3') # lth order moments\n",
    "[a1_, a2_, a3_, a4_] = sym.symbols('a1_t a2_t a3_t a4_t')\n",
    "[u0_, u1_, u2_, u3_] = sym.symbols('mu0_t mu1_t mu2_t mu3_t') # lth order moments\n",
    "a_list = np.array((a1, a2, a3, a4))\n",
    "u_list = np.array((u0, u1, u2, u3))\n",
    "a_list_ = np.array((a1_, a2_, a3_, a4_))\n",
    "u_list_ = np.array((u0_, u1_, u2_, u3_))\n",
    "\n",
    "y = sampled_loopfilter_output_general(a_list, t, order, u_list).as_poly(t)\n",
    "y_ = sampled_loopfilter_output_general(a_list_, t, order, u_list_).as_poly(t)\n",
    "\n",
    "# print(y)\n",
    "# print(y_)\n",
    "\n",
    "coeff = y.all_coeffs()\n",
    "coeff_ = y_.all_coeffs()\n",
    "\n",
    "eq_list = []\n",
    "for i in range(order):\n",
    "    eq_list.append(coeff_[i]-coeff[i])\n",
    "    \n",
    "sol = sym.solve(eq_list, a_list_)\n",
    "\n",
    "if subsMom0_1:\n",
    "    sol = sym.simplify(sol).subs({u0:1, u0_:1})\n",
    "\n",
    "sol_list = []\n",
    "sol_dict = {}\n",
    "for i in range(order):\n",
    "    lhs = a_list_[i]\n",
    "    rhs = sol[lhs]\n",
    "    equ = sym.Eq(lhs, sym.collect(rhs,a_list))\n",
    "    sol_list.append(equ)\n",
    "    sol_dict[lhs] = equ.rhs"
   ]
  },
  {
   "cell_type": "code",
   "execution_count": 20,
   "id": "d69fa01b",
   "metadata": {},
   "outputs": [
    {
     "data": {
      "text/latex": [
       "$\\displaystyle \\left\\{ a_{1 t} : a_{1} + a_{2} \\left(\\mu_{1 t} - \\mu_{1}\\right) + a_{3} \\left(\\mu_{1 t}^{2} - \\mu_{1 t} \\mu_{1} - \\frac{\\mu_{2 t}}{2} + \\frac{\\mu_{2}}{2}\\right) + a_{4} \\left(\\mu_{1 t}^{3} - \\mu_{1 t}^{2} \\mu_{1} - \\mu_{1 t} \\mu_{2 t} + \\frac{\\mu_{1 t} \\mu_{2}}{2} + \\frac{\\mu_{2 t} \\mu_{1}}{2} + \\frac{\\mu_{3 t}}{6} - \\frac{\\mu_{3}}{6}\\right), \\  a_{2 t} : a_{2} + a_{3} \\left(\\mu_{1 t} - \\mu_{1}\\right) + a_{4} \\left(\\mu_{1 t}^{2} - \\mu_{1 t} \\mu_{1} - \\frac{\\mu_{2 t}}{2} + \\frac{\\mu_{2}}{2}\\right), \\  a_{3 t} : a_{3} + a_{4} \\left(\\mu_{1 t} - \\mu_{1}\\right), \\  a_{4 t} : a_{4}\\right\\}$"
      ],
      "text/plain": [
       "{a1_t: a1 + a2*(mu1_t - mu_1) + a3*(mu1_t**2 - mu1_t*mu_1 - mu2_t/2 + mu_2/2) + a4*(mu1_t**3 - mu1_t**2*mu_1 - mu1_t*mu2_t + mu1_t*mu_2/2 + mu2_t*mu_1/2 + mu3_t/6 - mu_3/6), a2_t: a2 + a3*(mu1_t - mu_1) + a4*(mu1_t**2 - mu1_t*mu_1 - mu2_t/2 + mu_2/2), a3_t: a3 + a4*(mu1_t - mu_1), a4_t: a4}"
      ]
     },
     "execution_count": 20,
     "metadata": {},
     "output_type": "execute_result"
    }
   ],
   "source": [
    "sym.simplify(sol_dict) # won't pretty print w/o simplify"
   ]
  },
  {
   "cell_type": "code",
   "execution_count": 21,
   "id": "8b58c318",
   "metadata": {},
   "outputs": [
    {
     "name": "stdout",
     "output_type": "stream",
     "text": [
      "1\n",
      "[0.1 0.1 0.1 0.1 0.1 0.1 0.1 0.1 0.1 0.1]\n",
      "[0.02 0.06 0.1  0.14 0.18 0.18 0.14 0.1  0.06 0.02]\n",
      "1.0\n",
      "0.0\n",
      "0.0\n",
      "0.0\n",
      "1.0\n",
      "0.0\n",
      "0.0\n",
      "0.0\n",
      "1.0\n",
      "0.0\n",
      "0.0032000000000000015\n",
      "3.252606517456513e-20\n"
     ]
    },
    {
     "name": "stderr",
     "output_type": "stream",
     "text": [
      "/home/koefinger/tools/miniconda3/envs/dsm/lib/python3.12/site-packages/scipy/_lib/_util.py:1023: RuntimeWarning: Precision loss occurred in moment calculation due to catastrophic cancellation. This occurs when the data are nearly identical. Results may be unreliable.\n",
      "  return fun(*args, **kwargs)\n"
     ]
    }
   ],
   "source": [
    "# Test some pulse shapes and their central moments\n",
    "# import control.matlab as m\n",
    "import scipy.signal as s\n",
    "ntaps= 10;\n",
    "denom = np.zeros((1,ntaps))\n",
    "denom[0,0] = 1;\n",
    "h_nrz = np.squeeze(np.array((1)))\n",
    "h_fir_rect = np.squeeze(np.ones((1,ntaps))/ntaps)\n",
    "h_fir_triang = s.windows.triang(ntaps)\n",
    "h_fir_triang = h_fir_triang/np.sum(h_fir_triang)\n",
    "print(h_nrz)\n",
    "print(h_fir_rect)\n",
    "print(h_fir_triang)\n",
    "\n",
    "for i in range(4):\n",
    "    print(moment(h_nrz,i))\n",
    "\n",
    "for i in range(4):\n",
    "    print(moment(h_fir_rect,i))\n",
    "\n",
    "for i in range(4):\n",
    "    print(moment(h_fir_triang,i))"
   ]
  }
 ],
 "metadata": {
  "kernelspec": {
   "display_name": "Python 3",
   "language": "python",
   "name": "python3"
  },
  "language_info": {
   "codemirror_mode": {
    "name": "ipython",
    "version": 3
   },
   "file_extension": ".py",
   "mimetype": "text/x-python",
   "name": "python",
   "nbconvert_exporter": "python",
   "pygments_lexer": "ipython3",
   "version": "3.12.8"
  }
 },
 "nbformat": 4,
 "nbformat_minor": 5
}
