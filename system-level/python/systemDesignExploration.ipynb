{
 "cells": [
  {
   "cell_type": "markdown",
   "metadata": {},
   "source": [
    "Copyright 2023 Michael Koefinger\n",
    "\n",
    "Licensed under the Apache License, Version 2.0 (the \"License\");\n",
    "you may not use this file except in compliance with the License.\n",
    "You may obtain a copy of the License at\n",
    "\n",
    "    http://www.apache.org/licenses/LICENSE-2.0\n",
    "\n",
    "Unless required by applicable law or agreed to in writing, software\n",
    "distributed under the License is distributed on an \"AS IS\" BASIS,\n",
    "WITHOUT WARRANTIES OR CONDITIONS OF ANY KIND, either express or implied.\n",
    "See the License for the specific language governing permissions and\n",
    "limitations under the License."
   ]
  },
  {
   "cell_type": "code",
   "execution_count": null,
   "metadata": {},
   "outputs": [],
   "source": [
    "%matplotlib inline"
   ]
  },
  {
   "cell_type": "code",
   "execution_count": null,
   "metadata": {},
   "outputs": [],
   "source": [
    "from __future__ import division\n",
    "import matplotlib.pyplot as plt\n",
    "import control as ctr\n",
    "import dsSim\n",
    "import numpy as np\n",
    "import scipy as sc\n",
    "import deltasigma as ds"
   ]
  },
  {
   "attachments": {},
   "cell_type": "markdown",
   "metadata": {},
   "source": [
    "# Design Exploration"
   ]
  },
  {
   "cell_type": "code",
   "execution_count": null,
   "metadata": {},
   "outputs": [],
   "source": [
    "# Input Data Structure\n",
    "simInData = {\n",
    "    \"osr\": 256,                # oversamping ratio\n",
    "    \"fs\": 2**16,               # sampling freq. in Hz\n",
    "    # Modulator spec\n",
    "    \"mod\": {\n",
    "        \"ct\": False,           # True: cont. time, False: discrete time\n",
    "        \"ord\": 3,              # modulator order\n",
    "        \"k\": 1.0,              # gain factor\n",
    "        \"nlev\": 4,             # number of quantizer levels\n",
    "        \"optZ\": 0,             # optimized zero placement of ntf (0: no, 1: all, 2: only pairs of two)\n",
    "        \"topology\": \"CIFF\",    # DT: \"CRFB\", \"CRFF\", \"CIFB\", \"CIFF\" or CT: \"FF\", \"FB\"\n",
    "        \"scaleStates\": False,   # Perform dynamic range scaling\n",
    "        \"OBG\": 1.5             # Out of band gain\n",
    "    },\n",
    "\n",
    "    # Decimation filter spec\n",
    "    \"dec\": {\n",
    "        \"nTaps\": 9000,         # FIR filter length, 20*OSR suggested\n",
    "        \"fc\": 128,             # corner freq. of FIR\n",
    "        \"window\": \"hann\",      # filter shape, \"boxcar\", \"triangle\" see scipy.signal.firwin()\n",
    "        \"movAvg\": False, \n",
    "        \"cascaded\": False,\n",
    "    },\n",
    "\n",
    "    # Time domain input signal\n",
    "    \"stim\": {\n",
    "        # amplitude vector of sine signal in Volts\n",
    "        \"amplVec_dB\": [-1.2],\n",
    "        \"f\": 25,               # frequency of sine in Hertz\n",
    "        \"nPeriods\": 50,        # length of the stimulus in periods\n",
    "        \"dcOffset\": 0,       # DC offset of signal\n",
    "    }\n",
    "}"
   ]
  },
  {
   "attachments": {},
   "cell_type": "markdown",
   "metadata": {},
   "source": [
    "## MOD3 - 2bit - no opt. zeros"
   ]
  },
  {
   "cell_type": "code",
   "execution_count": null,
   "metadata": {},
   "outputs": [],
   "source": [
    "tb1 = dsSim.Testbench(simInData)"
   ]
  },
  {
   "cell_type": "code",
   "execution_count": null,
   "metadata": {},
   "outputs": [],
   "source": [
    "tb1.plotSNR()"
   ]
  },
  {
   "attachments": {},
   "cell_type": "markdown",
   "metadata": {},
   "source": [
    "# MOD3 - 2bit - opt. zeros"
   ]
  },
  {
   "cell_type": "code",
   "execution_count": null,
   "metadata": {},
   "outputs": [],
   "source": [
    "simInData['mod']['optZ'] = 2\n",
    "tb2 = dsSim.Testbench(simInData)"
   ]
  },
  {
   "cell_type": "code",
   "execution_count": null,
   "metadata": {},
   "outputs": [],
   "source": [
    "tb2.plotSNR()"
   ]
  },
  {
   "attachments": {},
   "cell_type": "markdown",
   "metadata": {},
   "source": [
    "## MOD4 - 2bit - no opt. zeros"
   ]
  },
  {
   "cell_type": "code",
   "execution_count": null,
   "metadata": {},
   "outputs": [],
   "source": [
    "simInData['mod']['optZ'] = 0\n",
    "simInData['mod']['ord'] = 4\n",
    "tb3 = dsSim.Testbench(simInData, interpOsr=16)"
   ]
  },
  {
   "cell_type": "code",
   "execution_count": null,
   "metadata": {},
   "outputs": [],
   "source": [
    "tb3.plotSNR()"
   ]
  },
  {
   "attachments": {},
   "cell_type": "markdown",
   "metadata": {},
   "source": [
    "## MOD4 - 2bit - opt zeros"
   ]
  },
  {
   "cell_type": "code",
   "execution_count": null,
   "metadata": {},
   "outputs": [],
   "source": [
    "simInData['mod']['optZ'] = 2\n",
    "simInData['mod']['ord'] = 4\n",
    "tb4 = dsSim.Testbench(simInData)"
   ]
  },
  {
   "cell_type": "code",
   "execution_count": null,
   "metadata": {},
   "outputs": [],
   "source": [
    "tb4.plotSNR()"
   ]
  },
  {
   "attachments": {},
   "cell_type": "markdown",
   "metadata": {},
   "source": [
    "## MOD5 - 2bit - no opt zeros"
   ]
  },
  {
   "cell_type": "code",
   "execution_count": null,
   "metadata": {},
   "outputs": [],
   "source": [
    "simInData['mod']['optZ'] = 0\n",
    "simInData['mod']['ord'] = 5\n",
    "tb5 = dsSim.Testbench(simInData)"
   ]
  },
  {
   "cell_type": "code",
   "execution_count": null,
   "metadata": {},
   "outputs": [],
   "source": [
    "tb5.plotSNR()"
   ]
  },
  {
   "attachments": {},
   "cell_type": "markdown",
   "metadata": {},
   "source": [
    "## Export Data"
   ]
  },
  {
   "cell_type": "code",
   "execution_count": null,
   "metadata": {},
   "outputs": [],
   "source": [
    "data_mod3noptz= tb1.getSNRPlotData()['synth'][1]\n",
    "data_mod3optz = tb2.getSNRPlotData()['synth'][1]\n",
    "data_mod4noptz = tb3.getSNRPlotData()['synth'][1]\n",
    "data_mod4optz = tb4.getSNRPlotData()['synth'][1]\n",
    "data_mod5noptz = tb5.getSNRPlotData()['synth'][1]\n",
    "inputVec = tb1.getSNRPlotData()['synth'][0]\n",
    "np.savetxt('explore.txt', np.column_stack([inputVec, data_mod3noptz, data_mod3optz, data_mod4noptz, data_mod4optz, data_mod5noptz]), header='input sqnr1 sqnr2 sqnr3 sqnr4 sqnr5', comments='')"
   ]
  },
  {
   "cell_type": "code",
   "execution_count": null,
   "metadata": {},
   "outputs": [],
   "source": [
    "peak_snrR_mod3noptz, peak_ampR_mod3noptz = ds.peakSNR(data_mod3noptz, inputVec)\n",
    "peak_snrR_mod3optz, peak_ampR_mod3optz = ds.peakSNR(data_mod3optz, inputVec)\n",
    "peak_snrR_mod4noptz, peak_ampR_mod4noptz = ds.peakSNR(data_mod4noptz, inputVec)\n",
    "peak_snrR_mod4optz, peak_ampR_mod4optz = ds.peakSNR(data_mod4optz, inputVec)\n",
    "#peak_snrR_mod5noptz, peak_ampR_mod5noptz = ds.peakSNR(data_mod5noptz, inputVec)"
   ]
  },
  {
   "attachments": {},
   "cell_type": "markdown",
   "metadata": {},
   "source": [
    "## NTF of 4th order DSM"
   ]
  },
  {
   "cell_type": "code",
   "execution_count": null,
   "metadata": {},
   "outputs": [],
   "source": [
    "print('MSA = {0}'.format(peak_ampR_mod4noptz)+\" dBFS\")\n",
    "print('peak SQNR = {0}'.format(np.squeeze(peak_snrR_mod4noptz))+\" dB\")\n",
    "MSA_scaled = 20*np.log10(tb3.getModulatorObj().getMSI())\n",
    "print('MSA after dyn. range scaling: {0}'.format(MSA_scaled)+\" dBFS\")"
   ]
  },
  {
   "cell_type": "code",
   "execution_count": null,
   "metadata": {},
   "outputs": [],
   "source": [
    "tb3.plotSNR([-50, -5, 5], [-4, 0, 0.1])"
   ]
  },
  {
   "cell_type": "code",
   "execution_count": null,
   "metadata": {},
   "outputs": [],
   "source": [
    "indBFS = tb3.getSNRPlotData()['synth'][0]\n",
    "sqnr_synth = tb3.getSNRPlotData()['synth'][1]\n",
    "sqnr_real = tb3.getSNRPlotData()['real'][1]\n",
    "#peak_snr_synth, peak_amp_synth = ds.peakSNR(sqnr_synth, indBFS)\n",
    "#peak_snr_real, peak_amp_real = ds.peakSNR(sqnr_real, indBFS)\n",
    "print('Synth. MSA = {0}'.format(peak_amp_synth)+\" dBFS\")\n",
    "print('Synth. peak SQNR = {0}'.format(np.squeeze(peak_snr_synth))+\" dB\")\n",
    "#print('Real. MSA = {0}'.format(peak_amp_real)+\" dBFS\")\n",
    "#print('Real. peak SQNR = {0}'.format(np.squeeze(peak_snr_real))+\" dB\")"
   ]
  },
  {
   "attachments": {},
   "cell_type": "markdown",
   "metadata": {},
   "source": [
    "## ds.peakSNR did not yield a result --> check vectors manually"
   ]
  },
  {
   "cell_type": "code",
   "execution_count": null,
   "metadata": {},
   "outputs": [],
   "source": [
    "print('Synth. MSA = -1.2')\n",
    "print('Synth. peak SQNR = 148.4 dB')"
   ]
  },
  {
   "attachments": {},
   "cell_type": "markdown",
   "metadata": {},
   "source": [
    "## Export detailed SQNR plot"
   ]
  },
  {
   "cell_type": "code",
   "execution_count": null,
   "metadata": {},
   "outputs": [],
   "source": [
    "tb3.exportSNRPlotData('sqnr_mod4_detailed.txt')"
   ]
  },
  {
   "cell_type": "code",
   "execution_count": null,
   "metadata": {},
   "outputs": [],
   "source": [
    "ntf = tb3.getModulatorObj().getSynthNTF()\n",
    "print(ds.pretty_lti(ntf))"
   ]
  },
  {
   "cell_type": "code",
   "execution_count": null,
   "metadata": {},
   "outputs": [],
   "source": [
    "ds.plotPZ(ntf)"
   ]
  },
  {
   "attachments": {},
   "cell_type": "markdown",
   "metadata": {},
   "source": [
    "## Time domain sim of chosen architecture"
   ]
  },
  {
   "cell_type": "code",
   "execution_count": null,
   "metadata": {},
   "outputs": [],
   "source": [
    "tb3.run(singleRun=False, useNTF=True)"
   ]
  },
  {
   "cell_type": "code",
   "execution_count": null,
   "metadata": {},
   "outputs": [],
   "source": [
    "tb3.plotResult(zoomXY=(True, True), zoomFactY=0.2e-1, show={\"in\": (True, True), \"out\": (True, True, False)})\n",
    "tb3.getStimulusObj().plotStim()"
   ]
  },
  {
   "cell_type": "code",
   "execution_count": null,
   "metadata": {},
   "outputs": [],
   "source": [
    "tb3.exportDecimatedSignals('sim_neg1_2dBFS_0vdc_25Hz.txt', tStartRel = 0.45, tStopRel=0.55)"
   ]
  },
  {
   "cell_type": "code",
   "execution_count": null,
   "metadata": {},
   "outputs": [],
   "source": [
    "nomInputSig = dsSim.TdSimStimulus([-31.1, -97.1], 25, 2.08, simInData['fs'], simInData['osr'], 4, nPeriods=50)\n",
    "tb3.setStimulusObj(nomInputSig)\n",
    "tb3.run(singleRun=False, useNTF=True)"
   ]
  },
  {
   "cell_type": "code",
   "execution_count": null,
   "metadata": {},
   "outputs": [],
   "source": [
    "tb3.plotResult(zoomXY=(True, True), zoomFactY=0.02e-2, show={\"in\": (True, True), \"out\": (True, True, False)})\n",
    "tb3.getStimulusObj().plotStim()"
   ]
  },
  {
   "cell_type": "code",
   "execution_count": null,
   "metadata": {},
   "outputs": [],
   "source": [
    "tb3.exportDecimatedSignals('sim_neg31_1dBFS_250mvdc_25Hz.txt', tStartRel = 0.45, tStopRel=0.55)\n",
    "#tb3.exportDecimatedSignals('sim_neg97_1dBFS_250mvdc_25Hz.txt', tStartRel = 0.45, tStopRel=0.55)"
   ]
  },
  {
   "attachments": {},
   "cell_type": "markdown",
   "metadata": {},
   "source": [
    "## Frequency domain sim of chosen arch."
   ]
  },
  {
   "cell_type": "code",
   "execution_count": null,
   "metadata": {},
   "outputs": [],
   "source": [
    "psdInputSig = dsSim.FdSimStimulus([-3.37], 25/simInData['fs'], 0, 1, simInData['osr'], 4, N_FFT=2**20)\n",
    "tb3.setStimulusObj(psdInputSig)"
   ]
  },
  {
   "cell_type": "code",
   "execution_count": null,
   "metadata": {},
   "outputs": [],
   "source": [
    "tb3.run(singleRun=False, useNTF=True)\n",
    "tb3.calcPSDParam()"
   ]
  },
  {
   "cell_type": "code",
   "execution_count": null,
   "metadata": {},
   "outputs": [],
   "source": [
    "tb3.simulateSNRWrapper()"
   ]
  },
  {
   "attachments": {},
   "cell_type": "markdown",
   "metadata": {},
   "source": [
    "\n",
    "## Sweep input frequency and evaluate SQNR, find worst SQNR"
   ]
  },
  {
   "cell_type": "code",
   "execution_count": null,
   "metadata": {},
   "outputs": [],
   "source": [
    "finVec = np.r_[12:30:1]/simInData['fs']\n",
    "snrVec = []\n",
    "for i in range(len(finVec)):\n",
    "    res = tb3.simulateSNRWrapper(finVec[i], useNTF=True)\n",
    "    snrVec.append(res)\n",
    "\n",
    "plt.figure()\n",
    "plt.plot(finVec*simInData['fs'], snrVec)\n"
   ]
  },
  {
   "attachments": {},
   "cell_type": "markdown",
   "metadata": {},
   "source": [
    "## Plot and export PSD data"
   ]
  },
  {
   "cell_type": "code",
   "execution_count": null,
   "metadata": {},
   "outputs": [],
   "source": [
    "tb3.plotPSD()\n",
    "tb3.exportPSDPlotData('psd_explore.txt')"
   ]
  },
  {
   "attachments": {},
   "cell_type": "markdown",
   "metadata": {},
   "source": [
    "## Use python-deltasigma toolbox function to plot smoothed spectrum\n",
    "\n",
    "This should yield same result as above"
   ]
  },
  {
   "cell_type": "code",
   "execution_count": null,
   "metadata": {},
   "outputs": [],
   "source": [
    "ds.plotSpectrum(tb3.getPSD()['PSD'][0], int(tb3.getStimulusObj().getStimFreq()*tb3.getStimulusObj().getSampleCnt()))"
   ]
  },
  {
   "attachments": {},
   "cell_type": "markdown",
   "metadata": {},
   "source": [
    "## Verify Out of Band Gain (OBG)"
   ]
  },
  {
   "cell_type": "code",
   "execution_count": null,
   "metadata": {},
   "outputs": [],
   "source": [
    "res = tb3.verifyOBG()\n",
    "print(\"Simulated OBG = {0}\".format(res[0]))\n",
    "print(\"Synth. OBG = {0}\".format(res[1]))"
   ]
  },
  {
   "attachments": {},
   "cell_type": "markdown",
   "metadata": {},
   "source": [
    "\n",
    "## CT Loop Filter Coeff - FF"
   ]
  },
  {
   "cell_type": "code",
   "execution_count": null,
   "metadata": {},
   "outputs": [],
   "source": [
    "simInData['mod']['ct'] = True\n",
    "simInData['mod']['topology'] = 'FF'\n",
    "ctff = dsSim.Testbench(simInData)\n",
    "ABCD = ctff.getModulatorObj().getStateSpaceMat()\n",
    "print(ABCD)"
   ]
  },
  {
   "attachments": {},
   "cell_type": "markdown",
   "metadata": {},
   "source": [
    "\n",
    "## CT Loop Filter Coeff - FB"
   ]
  },
  {
   "cell_type": "code",
   "execution_count": null,
   "metadata": {},
   "outputs": [],
   "source": [
    "simInData['mod']['ct'] = True\n",
    "simInData['mod']['topology'] = 'FB'\n",
    "ctfb = dsSim.Testbench(simInData)\n",
    "ABCD = ctfb.getModulatorObj().getStateSpaceMat()\n",
    "print(ABCD)"
   ]
  }
 ],
 "metadata": {
  "kernelspec": {
   "display_name": "Python 3.10.6 ('deltasigma')",
   "language": "python",
   "name": "python3"
  },
  "language_info": {
   "codemirror_mode": {
    "name": "ipython",
    "version": 3
   },
   "file_extension": ".py",
   "mimetype": "text/x-python",
   "name": "python",
   "nbconvert_exporter": "python",
   "pygments_lexer": "ipython3",
   "version": "3.10.6"
  },
  "orig_nbformat": 2,
  "vscode": {
   "interpreter": {
    "hash": "183c26aec959247e61106dafdf27e366020ae1b5ff73bde3707d923e129b5cf2"
   }
  }
 },
 "nbformat": 4,
 "nbformat_minor": 2
}
